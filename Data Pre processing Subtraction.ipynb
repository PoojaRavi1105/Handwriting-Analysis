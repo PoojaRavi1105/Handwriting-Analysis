{
 "cells": [
  {
   "cell_type": "code",
   "execution_count": 3,
   "metadata": {},
   "outputs": [],
   "source": [
    "import pandas as pd\n",
    "import numpy as np\n",
    "import csv as csv\n",
    "import sklearn.utils"
   ]
  },
  {
   "cell_type": "code",
   "execution_count": 8,
   "metadata": {},
   "outputs": [],
   "source": [
    "df_same = pd.read_csv(\"HumanObserved-Dataset/HumanObserved-Features-Data/same_pairs.csv\") \n",
    "df_features = pd.read_csv(\"HumanObserved-Dataset/HumanObserved-Features-Data/HumanObserved-Features-Data.csv\") \n",
    "df_diffn = pd.read_csv(\"HumanObserved-Dataset/HumanObserved-Features-Data/diffn_pairs.csv\") \n",
    "\n",
    "df_diffn = sklearn.utils.shuffle(df_diffn).reset_index(drop = True)\n",
    "df_diff=pd.DataFrame(df_diffn[:1600]) \n",
    "df_M=pd.concat([df_same,df_diff], ignore_index=True)\n",
    "df_M=sklearn.utils.shuffle(df_M).reset_index(drop = True)\n",
    "\n",
    "df_target=df_M.iloc[:,2:3]"
   ]
  },
  {
   "cell_type": "code",
   "execution_count": 9,
   "metadata": {},
   "outputs": [],
   "source": [
    "dfA=pd.merge(df_M,df_features,left_on='img_id_A',right_on='img_id') \n",
    "dfB=pd.merge(df_M,df_features,left_on='img_id_B',right_on='img_id') \n",
    "dfA=dfA.drop(dfA.columns[[0,1,2,3,4]],axis=1)\n",
    "\n",
    "dfB=dfB.drop(dfB.columns[[0,1,2,3,4]],axis=1)\n",
    "\n",
    "#dfB \n",
    "dfSub=abs(dfA-dfB)\n",
    "\n",
    "dfSub=df_M.merge(dfSub,how='outer',left_index=True, right_index=True)\n",
    "dfSub=dfSub.drop(dfSub.columns[[0,1,2]],axis=1)\n",
    "\n",
    "df_merged = dfA.merge(dfB, how='outer', left_index=True, right_index=True) \n",
    "\n",
    "df_M=sklearn.utils.shuffle(df_M).reset_index(drop = True)\n",
    "df_target=df_M.iloc[:,2:3]"
   ]
  },
  {
   "cell_type": "code",
   "execution_count": 10,
   "metadata": {},
   "outputs": [],
   "source": [
    "dfSub.to_csv('subtractHuman.csv')\n",
    "df_target.to_csv('subtract_target_Human.csv')"
   ]
  },
  {
   "cell_type": "code",
   "execution_count": 33,
   "metadata": {},
   "outputs": [],
   "source": [
    "df_same = pd.read_csv(\"GSC-Dataset/GSC-Features-Data/same_pairs.csv\") \n",
    "df_features = pd.read_csv(\"GSC-Dataset/GSC-Features-Data/GSC-Features.csv\") \n",
    "df_diffn = pd.read_csv(\"GSC-Dataset/GSC-Features-Data/diffn_pairs.csv\")\n",
    "#extracting firsy 6000 rows from GSC dataset for same pairs\n",
    "df_same=pd.DataFrame(df_same[:6000]) \n",
    "df_diffn=sklearn.utils.shuffle(df_diffn).reset_index(drop = True)\n",
    "\n",
    "#extracting firsy 12000 rows from GSC dataset for diff pairs\n",
    "df_diff=pd.DataFrame(df_diffn[:12000]) \n",
    "df_M=pd.concat([df_same,df_diff], ignore_index = True)"
   ]
  },
  {
   "cell_type": "code",
   "execution_count": 34,
   "metadata": {},
   "outputs": [],
   "source": [
    "dfA=pd.merge(df_M,df_features,left_on='img_id_A',right_on='img_id') \n",
    "dfB=pd.merge(df_M,df_features,left_on='img_id_B',right_on='img_id') \n",
    "\n",
    "#dropping the first 4 columns which contain index, img_id_A and img_id_B\n",
    "dfA=dfA.drop(dfA.columns[[0,1,2,3]],axis=1)\n",
    "\n",
    "dfB=dfB.drop(dfB.columns[[0,1,2,3]],axis=1)\n",
    "\n",
    "dfSub=abs(dfA-dfB)\n",
    "\n",
    "dfSub=df_M.merge(dfSub,how='outer',left_index=True, right_index=True)\n",
    "dfSub=dfSub.drop(dfSub.columns[[0,1,2]],axis=1)\n",
    "\n",
    "df_merged = dfA.merge(dfB, how='outer', left_index=True, right_index=True) \n",
    "\n",
    "#shuffling the data\n",
    "df_M=sklearn.utils.shuffle(df_M).reset_index(drop = True)\n",
    "df_target=df_M.iloc[:,2:3]"
   ]
  },
  {
   "cell_type": "code",
   "execution_count": 35,
   "metadata": {},
   "outputs": [],
   "source": [
    "#to remove columns which contain zero\n",
    "df_merged = df_merged.loc[:,(df_merged!=0).any(axis=0)]\n",
    "dfSub.to_csv('subtractGSC.csv')\n",
    "df_target.to_csv('subtract_target_GSC.csv')"
   ]
  }
 ],
 "metadata": {
  "kernelspec": {
   "display_name": "Python 3",
   "language": "python",
   "name": "python3"
  },
  "language_info": {
   "codemirror_mode": {
    "name": "ipython",
    "version": 3
   },
   "file_extension": ".py",
   "mimetype": "text/x-python",
   "name": "python",
   "nbconvert_exporter": "python",
   "pygments_lexer": "ipython3",
   "version": "3.6.6"
  }
 },
 "nbformat": 4,
 "nbformat_minor": 2
}
