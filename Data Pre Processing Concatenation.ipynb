{
 "cells": [
  {
   "cell_type": "code",
   "execution_count": 26,
   "metadata": {},
   "outputs": [],
   "source": [
    "import pandas as pd\n",
    "import numpy as np\n",
    "import csv as csv\n",
    "import sklearn.utils"
   ]
  },
  {
   "cell_type": "code",
   "execution_count": 28,
   "metadata": {},
   "outputs": [],
   "source": [
    "df_same = pd.read_csv(\"HumanObserved-Dataset/HumanObserved-Features-Data/same_pairs.csv\") \n",
    "df_features = pd.read_csv(\"HumanObserved-Dataset/HumanObserved-Features-Data/HumanObserved-Features-Data.csv\") \n",
    "df_diffn = pd.read_csv(\"HumanObserved-Dataset/HumanObserved-Features-Data/diffn_pairs.csv\") \n",
    "df_diffn=df_diffn.reindex(np.random.permutation(df_diffn.index))\n",
    "df_diff=pd.DataFrame(df_diffn[:1600]) \n",
    "df_M=pd.concat([df_same,df_diff], ignore_index=True)\n",
    "df_M=sklearn.utils.shuffle(df_M).reset_index(drop = True)\n",
    "df_target=df_M.iloc[:,2:3]\n",
    "\n",
    "\n",
    "#Concatenating Human dataset\n",
    "df_merge=pd.merge(df_M,df_features,left_on='img_id_A',right_on='img_id') \n",
    "df_merge=pd.merge(df_merge,df_features,left_on='img_id_B',right_on='img_id') \n",
    "df_merge=df_merge.drop(df_merge.columns[[0,1,2,3,4,14,15]],axis=1)\n",
    "\n",
    "#df_concat.drop(['Unnamed:0'], axis = 1, inplace = True) \n",
    "df_merge.to_csv('concatHuman.csv')\n",
    "df_target.to_csv('target_Human.csv')"
   ]
  },
  {
   "cell_type": "code",
   "execution_count": 29,
   "metadata": {},
   "outputs": [],
   "source": [
    "df_same = pd.read_csv(\"GSC-Dataset/GSC-Features-Data/same_pairs.csv\") \n",
    "df_features = pd.read_csv(\"GSC-Dataset/GSC-Features-Data/GSC-Features.csv\") \n",
    "df_diffn = pd.read_csv(\"GSC-Dataset/GSC-Features-Data/diffn_pairs.csv\")\n",
    "\n",
    "#extracting firsy 5000 rows from GSC dataset for same pairs\n",
    "df_same=pd.DataFrame(df_same[:5000]) \n",
    "df_diffn=sklearn.utils.shuffle(df_diffn).reset_index(drop = True)\n",
    "\n",
    "#extracting firsy 10000 rows from GSC dataset for same pairs\n",
    "df_diff=pd.DataFrame(df_diffn[:10000]) \n",
    "df_M=pd.concat([df_same,df_diff])"
   ]
  },
  {
   "cell_type": "code",
   "execution_count": 30,
   "metadata": {},
   "outputs": [],
   "source": [
    "df_merge=pd.merge(df_M,df_features,left_on='img_id_A',right_on='img_id') \n",
    "df_merge=pd.merge(df_merge,df_features,left_on='img_id_B',right_on='img_id') \n",
    "df_merge=df_merge.drop(df_merge.columns[[0,1,2,3,516]],axis=1)\n",
    "df_merge=df_merge.loc[:,(df_merge!=0).any(axis=0)]\n",
    "\n",
    "df_merge.to_csv('concatGSC.csv')"
   ]
  },
  {
   "cell_type": "code",
   "execution_count": 31,
   "metadata": {},
   "outputs": [],
   "source": [
    "df_target_GSC=df_M.iloc[:,2:3]\n",
    "df_target_GSC.to_csv('target_GSC.csv')"
   ]
  },
  {
   "cell_type": "code",
   "execution_count": null,
   "metadata": {},
   "outputs": [],
   "source": []
  }
 ],
 "metadata": {
  "kernelspec": {
   "display_name": "Python 3",
   "language": "python",
   "name": "python3"
  },
  "language_info": {
   "codemirror_mode": {
    "name": "ipython",
    "version": 3
   },
   "file_extension": ".py",
   "mimetype": "text/x-python",
   "name": "python",
   "nbconvert_exporter": "python",
   "pygments_lexer": "ipython3",
   "version": "3.6.6"
  }
 },
 "nbformat": 4,
 "nbformat_minor": 2
}
